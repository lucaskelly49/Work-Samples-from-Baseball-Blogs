{
 "cells": [
  {
   "cell_type": "markdown",
   "metadata": {},
   "source": [
    "# Punting?! There's No Punting in Baseball!\n",
    "\n",
    "https://fantasy.fangraphs.com/author/lucaskelly49/"
   ]
  },
  {
   "cell_type": "code",
   "execution_count": 46,
   "metadata": {},
   "outputs": [],
   "source": [
    "import pandas as pd\n",
    "import numpy as np"
   ]
  },
  {
   "cell_type": "code",
   "execution_count": 34,
   "metadata": {},
   "outputs": [],
   "source": [
    "dfB = pd.read_csv('batters19.csv')\n",
    "dfP = pd.read_csv('pitchers19.csv')\n",
    "dfB2 = dfB[['SB', 'HR', 'R', 'RBI', 'OBP']]\n",
    "dfP2 = dfP[['W', 'ERA', 'SV', 'WHIP', 'SO']]"
   ]
  },
  {
   "cell_type": "code",
   "execution_count": 38,
   "metadata": {},
   "outputs": [],
   "source": [
    "offensive_corr = dfB2.corr()\n",
    "pitchers_corr = dfP2.corr()"
   ]
  },
  {
   "cell_type": "code",
   "execution_count": 58,
   "metadata": {},
   "outputs": [
    {
     "data": {
      "text/html": [
       "<div>\n",
       "<style scoped>\n",
       "    .dataframe tbody tr th:only-of-type {\n",
       "        vertical-align: middle;\n",
       "    }\n",
       "\n",
       "    .dataframe tbody tr th {\n",
       "        vertical-align: top;\n",
       "    }\n",
       "\n",
       "    .dataframe thead th {\n",
       "        text-align: right;\n",
       "    }\n",
       "</style>\n",
       "<table border=\"1\" class=\"dataframe\">\n",
       "  <thead>\n",
       "    <tr style=\"text-align: right;\">\n",
       "      <th></th>\n",
       "      <th>SB</th>\n",
       "      <th>HR</th>\n",
       "      <th>R</th>\n",
       "      <th>RBI</th>\n",
       "      <th>OBP</th>\n",
       "    </tr>\n",
       "  </thead>\n",
       "  <tbody>\n",
       "    <tr>\n",
       "      <th>SB</th>\n",
       "      <td>1.000000</td>\n",
       "      <td>0.337881</td>\n",
       "      <td>0.535625</td>\n",
       "      <td>0.404763</td>\n",
       "      <td>0.298993</td>\n",
       "    </tr>\n",
       "    <tr>\n",
       "      <th>HR</th>\n",
       "      <td>0.337881</td>\n",
       "      <td>1.000000</td>\n",
       "      <td>0.904055</td>\n",
       "      <td>0.943307</td>\n",
       "      <td>0.542772</td>\n",
       "    </tr>\n",
       "    <tr>\n",
       "      <th>R</th>\n",
       "      <td>0.535625</td>\n",
       "      <td>0.904055</td>\n",
       "      <td>1.000000</td>\n",
       "      <td>0.944955</td>\n",
       "      <td>0.611149</td>\n",
       "    </tr>\n",
       "    <tr>\n",
       "      <th>RBI</th>\n",
       "      <td>0.404763</td>\n",
       "      <td>0.943307</td>\n",
       "      <td>0.944955</td>\n",
       "      <td>1.000000</td>\n",
       "      <td>0.580722</td>\n",
       "    </tr>\n",
       "    <tr>\n",
       "      <th>OBP</th>\n",
       "      <td>0.298993</td>\n",
       "      <td>0.542772</td>\n",
       "      <td>0.611149</td>\n",
       "      <td>0.580722</td>\n",
       "      <td>1.000000</td>\n",
       "    </tr>\n",
       "  </tbody>\n",
       "</table>\n",
       "</div>"
      ],
      "text/plain": [
       "           SB        HR         R       RBI       OBP\n",
       "SB   1.000000  0.337881  0.535625  0.404763  0.298993\n",
       "HR   0.337881  1.000000  0.904055  0.943307  0.542772\n",
       "R    0.535625  0.904055  1.000000  0.944955  0.611149\n",
       "RBI  0.404763  0.943307  0.944955  1.000000  0.580722\n",
       "OBP  0.298993  0.542772  0.611149  0.580722  1.000000"
      ]
     },
     "execution_count": 58,
     "metadata": {},
     "output_type": "execute_result"
    }
   ],
   "source": [
    "offensive_corr"
   ]
  },
  {
   "cell_type": "code",
   "execution_count": 60,
   "metadata": {},
   "outputs": [
    {
     "data": {
      "text/html": [
       "<div>\n",
       "<style scoped>\n",
       "    .dataframe tbody tr th:only-of-type {\n",
       "        vertical-align: middle;\n",
       "    }\n",
       "\n",
       "    .dataframe tbody tr th {\n",
       "        vertical-align: top;\n",
       "    }\n",
       "\n",
       "    .dataframe thead th {\n",
       "        text-align: right;\n",
       "    }\n",
       "</style>\n",
       "<table border=\"1\" class=\"dataframe\">\n",
       "  <thead>\n",
       "    <tr style=\"text-align: right;\">\n",
       "      <th></th>\n",
       "      <th>W</th>\n",
       "      <th>ERA</th>\n",
       "      <th>SV</th>\n",
       "      <th>WHIP</th>\n",
       "      <th>SO</th>\n",
       "    </tr>\n",
       "  </thead>\n",
       "  <tbody>\n",
       "    <tr>\n",
       "      <th>W</th>\n",
       "      <td>1.000000</td>\n",
       "      <td>-0.354200</td>\n",
       "      <td>-0.011677</td>\n",
       "      <td>-0.383313</td>\n",
       "      <td>0.851699</td>\n",
       "    </tr>\n",
       "    <tr>\n",
       "      <th>ERA</th>\n",
       "      <td>-0.354200</td>\n",
       "      <td>1.000000</td>\n",
       "      <td>-0.228360</td>\n",
       "      <td>0.819899</td>\n",
       "      <td>-0.342434</td>\n",
       "    </tr>\n",
       "    <tr>\n",
       "      <th>SV</th>\n",
       "      <td>-0.011677</td>\n",
       "      <td>-0.228360</td>\n",
       "      <td>1.000000</td>\n",
       "      <td>-0.226352</td>\n",
       "      <td>0.056394</td>\n",
       "    </tr>\n",
       "    <tr>\n",
       "      <th>WHIP</th>\n",
       "      <td>-0.383313</td>\n",
       "      <td>0.819899</td>\n",
       "      <td>-0.226352</td>\n",
       "      <td>1.000000</td>\n",
       "      <td>-0.392328</td>\n",
       "    </tr>\n",
       "    <tr>\n",
       "      <th>SO</th>\n",
       "      <td>0.851699</td>\n",
       "      <td>-0.342434</td>\n",
       "      <td>0.056394</td>\n",
       "      <td>-0.392328</td>\n",
       "      <td>1.000000</td>\n",
       "    </tr>\n",
       "  </tbody>\n",
       "</table>\n",
       "</div>"
      ],
      "text/plain": [
       "             W       ERA        SV      WHIP        SO\n",
       "W     1.000000 -0.354200 -0.011677 -0.383313  0.851699\n",
       "ERA  -0.354200  1.000000 -0.228360  0.819899 -0.342434\n",
       "SV   -0.011677 -0.228360  1.000000 -0.226352  0.056394\n",
       "WHIP -0.383313  0.819899 -0.226352  1.000000 -0.392328\n",
       "SO    0.851699 -0.342434  0.056394 -0.392328  1.000000"
      ]
     },
     "execution_count": 60,
     "metadata": {},
     "output_type": "execute_result"
    }
   ],
   "source": [
    "pitchers_corr"
   ]
  },
  {
   "cell_type": "code",
   "execution_count": 39,
   "metadata": {},
   "outputs": [
    {
     "name": "stdout",
     "output_type": "stream",
     "text": [
      "Stolen Bases: 2.58\n",
      "Home Runs: 3.73\n",
      "Runs: 4.0\n",
      "RBI: 3.87\n",
      "OBP: 3.03\n"
     ]
    }
   ],
   "source": [
    "print('Stolen Bases: ' + str(round(offensive_corr['SB'].sum(),2)))\n",
    "print('Home Runs: ' + str(round(offensive_corr['HR'].sum(),2)))\n",
    "print('Runs: ' + str(round(offensive_corr['R'].sum(),2)))\n",
    "print('RBI: ' + str(round(offensive_corr['RBI'].sum(),2)))\n",
    "print('OBP: ' + str(round(offensive_corr['OBP'].sum(),2)))"
   ]
  },
  {
   "cell_type": "code",
   "execution_count": 40,
   "metadata": {},
   "outputs": [
    {
     "name": "stdout",
     "output_type": "stream",
     "text": [
      "W: 1.1\n",
      "ERA: 0.89\n",
      "SV: 0.59\n",
      "WHIP: 0.82\n",
      "SO: 1.17\n"
     ]
    }
   ],
   "source": [
    "print('W: ' + str(round(pitchers_corr['W'].sum(),2)))\n",
    "print('ERA: ' + str(round(pitchers_corr['ERA'].sum(),2)))\n",
    "print('SV: ' + str(round(pitchers_corr['SV'].sum(),2)))\n",
    "print('WHIP: ' + str(round(pitchers_corr['WHIP'].sum(),2)))\n",
    "print('SO: ' + str(round(pitchers_corr['SO'].sum(),2)))"
   ]
  },
  {
   "cell_type": "markdown",
   "metadata": {},
   "source": [
    "# Monte Carlo Simulation"
   ]
  },
  {
   "cell_type": "code",
   "execution_count": null,
   "metadata": {},
   "outputs": [],
   "source": [
    "def roll_the_dice(n,x):\n",
    "# start by keeping a count\n",
    "    count = 0\n",
    "# for every time you roll the dice\n",
    "    for i in range(x):\n",
    "        rolls = []\n",
    "# for every dice that you roll\n",
    "        for j in range(n):\n",
    "# randomly assign an outcome 1 - 6, for each dye\n",
    "            dye = random.randint(1, 10)\n",
    "# add that outcome to a list\n",
    "            rolls.append(dye)\n",
    "\n",
    "        if sum(rolls) > 84:\n",
    "            count += 1\n",
    "            print(rolls)\n",
    "            print(count)"
   ]
  },
  {
   "cell_type": "code",
   "execution_count": null,
   "metadata": {},
   "outputs": [],
   "source": [
    "roll_the_dice(9,10000000)"
   ]
  }
 ],
 "metadata": {
  "kernelspec": {
   "display_name": "Python 3",
   "language": "python",
   "name": "python3"
  },
  "language_info": {
   "codemirror_mode": {
    "name": "ipython",
    "version": 3
   },
   "file_extension": ".py",
   "mimetype": "text/x-python",
   "name": "python",
   "nbconvert_exporter": "python",
   "pygments_lexer": "ipython3",
   "version": "3.8.5"
  }
 },
 "nbformat": 4,
 "nbformat_minor": 4
}
